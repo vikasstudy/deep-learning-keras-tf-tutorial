{
  "nbformat": 4,
  "nbformat_minor": 0,
  "metadata": {
    "colab": {
      "name": "Untitled9.ipynb",
      "provenance": [],
      "authorship_tag": "ABX9TyP+5bnXuqhvbo/KnptbTIsb",
      "include_colab_link": true
    },
    "kernelspec": {
      "name": "python3",
      "display_name": "Python 3"
    },
    "language_info": {
      "name": "python"
    }
  },
  "cells": [
    {
      "cell_type": "markdown",
      "metadata": {
        "id": "view-in-github",
        "colab_type": "text"
      },
      "source": [
        "<a href=\"https://colab.research.google.com/github/vikasstudy/deep-learning-keras-tf-tutorial/blob/master/Pets_Classification.ipynb\" target=\"_parent\"><img src=\"https://colab.research.google.com/assets/colab-badge.svg\" alt=\"Open In Colab\"/></a>"
      ]
    },
    {
      "cell_type": "code",
      "metadata": {
        "id": "7VfiBi_UkTtK"
      },
      "source": [
        "#Load tensorflow\n",
        "import tensorflow as tf\n",
        "import glob"
      ],
      "execution_count": 4,
      "outputs": []
    },
    {
      "cell_type": "code",
      "metadata": {
        "id": "1wLXS00jkyTj"
      },
      "source": [
        "#create excel data\n",
        "import pandas as pd1\n",
        "import pandas as pd2\n",
        " "
      ],
      "execution_count": 8,
      "outputs": []
    },
    {
      "cell_type": "code",
      "metadata": {
        "id": "FL7w6mcRkzLc"
      },
      "source": [
        "df_train = pd1.DataFrame(columns=['class','dir','image_file']) \n",
        "df_test = pd2.DataFrame(columns=['class','dir','image_file'])\n",
        "\n",
        "train_cats_dogs=list()\n",
        "train_cats_dogs_class=list()\n",
        "test_cats_dogs=list()\n",
        "test_cats_dogs_class=list()"
      ],
      "execution_count": 11,
      "outputs": []
    },
    {
      "cell_type": "code",
      "metadata": {
        "id": "u8nDicVMndYn"
      },
      "source": [
        ""
      ],
      "execution_count": 11,
      "outputs": []
    },
    {
      "cell_type": "code",
      "metadata": {
        "colab": {
          "base_uri": "https://localhost:8080/",
          "height": 84
        },
        "id": "t41ETZKAneA9",
        "outputId": "dd47b821-cbea-472b-ca2a-d541dd2a4704"
      },
      "source": [
        "#Parse .jpg image files located in /data/*/*/*jpg and make train, test csv.\n",
        "\n",
        "for entry in glob.glob('./data/*/*/*jpg'):\n",
        "  cats_dogs = entry\n",
        "  if \"/train\" in cats_dogs:\n",
        "    train_cats_dogs.append(cats_dogs)\n",
        "    cats_dogs_dir = cats_dogs[0:cats_dogs.rfind('/')]\n",
        "    cats_dogs_class = cats_dogs_dir[cats_dogs_dir.rfind('/')+1:]\n",
        "    df_train.loc[df_train.shape[0]] = [cats_dogs_class, cats_dogs_dir, cats_dogs]\n",
        "\n",
        "\n",
        "  if \"/test\" in cats_dogs:\n",
        "    test_cats_dogs.append(cats_dogs)\n",
        "    cats_dogs_dir = cats_dogs[0:cats_dogs.rfind('/')]\n",
        "    cats_dogs_class = cats_dogs_dir[cats_dogs_dir.rfind('/')+1:]\n",
        "    df_test.loc[df_test.shape[0]] = [cats_dogs_class, cats_dogs_dir, cats_dogs]\n",
        "\n",
        "\n",
        "print('Total images: ', df_train.shape[0])\n",
        "df_train.head()\n",
        "\n",
        "print('Total images: ', df_test.shape[0])\n",
        "df_test.head()"
      ],
      "execution_count": 17,
      "outputs": [
        {
          "output_type": "stream",
          "name": "stdout",
          "text": [
            "Total images:  0\n",
            "Total images:  0\n"
          ]
        },
        {
          "output_type": "execute_result",
          "data": {
            "text/html": [
              "<div>\n",
              "<style scoped>\n",
              "    .dataframe tbody tr th:only-of-type {\n",
              "        vertical-align: middle;\n",
              "    }\n",
              "\n",
              "    .dataframe tbody tr th {\n",
              "        vertical-align: top;\n",
              "    }\n",
              "\n",
              "    .dataframe thead th {\n",
              "        text-align: right;\n",
              "    }\n",
              "</style>\n",
              "<table border=\"1\" class=\"dataframe\">\n",
              "  <thead>\n",
              "    <tr style=\"text-align: right;\">\n",
              "      <th></th>\n",
              "      <th>class</th>\n",
              "      <th>dir</th>\n",
              "      <th>image_file</th>\n",
              "    </tr>\n",
              "  </thead>\n",
              "  <tbody>\n",
              "  </tbody>\n",
              "</table>\n",
              "</div>"
            ],
            "text/plain": [
              "Empty DataFrame\n",
              "Columns: [class, dir, image_file]\n",
              "Index: []"
            ]
          },
          "metadata": {},
          "execution_count": 17
        }
      ]
    }
  ]
}